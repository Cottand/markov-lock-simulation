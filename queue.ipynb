{
 "cells": [
  {
   "cell_type": "markdown",
   "metadata": {},
   "source": [
    "<em><sub>This page is available as an executable or viewable <strong>Jupyter Notebook</strong>:</sub></em>\n",
    "<br/><br/>\n",
    "<a href=\"https://mybinder.org/v2/gh/Cottand/markov-lock-simulation/v1?filepath=queue.ipynb\"\n",
    "   target=\"_parent\"> \n",
    "   <img align=\"left\" \n",
    "        src=\"https://mybinder.org/badge_logo.svg\">\n",
    "</a>\n",
    "<a href=\"https://nbviewer.jupyter.org/github/Cottand/markov-lock-simulation/blob/master/queue.ipynb\" \n",
    "   target=\"_parent\"> \n",
    "   <img align=\"right\" \n",
    "        src=\"https://raw.githubusercontent.com/jupyter/design/master/logos/Badges/nbviewer_badge.png\" \n",
    "        width=\"109\" height=\"20\">\n",
    "</a>\n",
    "<br/>\n",
    "<br/>"
   ]
  },
  {
   "cell_type": "code",
   "execution_count": 1,
   "metadata": {},
   "outputs": [
    {
     "data": {
      "text/html": [
       "   <div id=\"RidHxb\"></div>\n",
       "   <script type=\"text/javascript\" data-lets-plot-script=\"library\">\n",
       "       if(!window.letsPlotCallQueue) {\n",
       "           window.letsPlotCallQueue = [];\n",
       "       }; \n",
       "       window.letsPlotCall = function(f) {\n",
       "           window.letsPlotCallQueue.push(f);\n",
       "       };\n",
       "       (function() {\n",
       "           var script = document.createElement(\"script\");\n",
       "           script.type = \"text/javascript\";\n",
       "           script.src = \"https://dl.bintray.com/jetbrains/lets-plot/lets-plot-1.5.4.min.js\";\n",
       "           script.onload = function() {\n",
       "               window.letsPlotCall = function(f) {f();};\n",
       "               window.letsPlotCallQueue.forEach(function(f) {f();});\n",
       "               window.letsPlotCallQueue = [];\n",
       "               \n",
       "               \n",
       "           };\n",
       "           script.onerror = function(event) {\n",
       "               window.letsPlotCall = function(f) {};\n",
       "               window.letsPlotCallQueue = [];\n",
       "               var div = document.createElement(\"div\");\n",
       "               div.style.color = 'darkred';\n",
       "               div.textContent = 'Error loading Lets-Plot JS';\n",
       "               document.getElementById(\"RidHxb\").appendChild(div);\n",
       "           };\n",
       "           var e = document.getElementById(\"RidHxb\");\n",
       "           e.appendChild(script);\n",
       "       })();\n",
       "   </script>"
      ]
     },
     "metadata": {},
     "output_type": "display_data"
    }
   ],
   "source": [
    "%use lets-plot\n",
    "%use kmath\n",
    "%use fuel, krangl\n",
    "\n",
    "import kotlin.ranges.IntRange\n",
    "\n",
    "fun Collection<Double>.product() = reduce { acc, i ->  acc * i }\n",
    "\n",
    "fun sum(range: IntRange, op: (Int) -> Double) = range.map(op).sum()\n",
    "\n",
    "fun prod(range: IntRange, op: (Int) -> Double) = range.map(op).product()\n",
    "\n",
    "operator fun IntRange.times(i: Int) = (0 until i).flatMap { this.toList() }"
   ]
  },
  {
   "cell_type": "markdown",
   "metadata": {},
   "source": [
    "## `Queue` class\n",
    "\n",
    "This class represents the context of our queue and its paramenters:\n",
    "\n",
    "- $t_x$ (us): time, on average, that a core takes to run its non-critical section of the code (ie, job arrival time)\n",
    "- $t_c$ (us): time, on average, that a core takes to run its _ciritical_ section of the code (which it can only do once it acquires the global lock)\n",
    "- $t_u$ (us): time, on average, that it takes to update the cache of a core _after_ the global lock has been released. $ct_u/2$ is the tame it takes for a core to grab the lock, when there are $c$ cores waiting for the lock\n",
    "- $n$, or `queueSize`: the total number of cores in this model\n",
    "- `constantRelease`: whether to model instead an 'ideal' model where the time it takes for a core to grab the lock is constant\n",
    "\n",
    "Which in turns allows us to compute:\n",
    "\n",
    "- $p_k$, or `p(k)`: the probability of the system being in state $k$ at any given time\n",
    "- $\\lambda_k$: the rate at which we jump from state $k$ to state $k+1$ (ie, the rate at which cores attempt to grab the lock)\n",
    "- $r_k$: the rate at which we jump from state $k+1$ to state $k$ (ie, the rate at which cores release the lock)\n",
    "- $W_Q$, or `avgWaitingTime`: the average waiting for the lock a core does\n",
    "- $N$, or `avgBusyCores`: the average number of cores either using or waiting for the lock"
   ]
  },
  {
   "cell_type": "code",
   "execution_count": 2,
   "metadata": {
    "scrolled": true
   },
   "outputs": [],
   "source": [
    "class Queue(\n",
    "    val tx: Double,\n",
    "    val tc: Double,\n",
    "    val tu: Double,\n",
    "    val queueSize: Int,\n",
    "    val constantRelease: Boolean = false\n",
    ") {\n",
    "    val n = queueSize\n",
    "    \n",
    "    val p0 by lazy {\n",
    "        val sum = sum(1..queueSize) { k -> prod(0..k-1) { i -> lambda(i) / r(i + 1) } }\n",
    "        1 / (1 + sum) \n",
    "    }\n",
    "    \n",
    "    \n",
    "    fun lambda(k: Int) = (queueSize - k) / tx\n",
    "\n",
    "    fun r(k: Int) = if (constantRelease) 1 / (tc + tu) else 2 / (2 * tc + k * tu)\n",
    "\n",
    "    fun p(k: Int) = if (k == 0) p0 else p0 * prod(0..k-1) { i -> lambda(i) / r(i + 1) }\n",
    "    \n",
    "    // N\n",
    "    val avgBusyCores by lazy {\n",
    "        sum(0..queueSize) { k -> k * p(k) }\n",
    "    }\n",
    "    \n",
    "    // W_Q\n",
    "    val avgWaitingTime by lazy {\n",
    "        sum(1..queueSize) { k -> (k - 1) * tu * p(k) / 2 }\n",
    "    }\n",
    "    \n",
    "    companion object\n",
    "}\n",
    "\n",
    "fun Queue.Companion.with(tx: Int, n: Int, constantRelease: Boolean = false) = \n",
    "    Queue(tx.toDouble(), 2.0, 5.0, n, constantRelease)\n",
    "\n"
   ]
  },
  {
   "cell_type": "markdown",
   "metadata": {},
   "source": [
    "## Mean time spent waiting to acquire the lock, $W_Q$, in terms of the number of cores, $n$"
   ]
  },
  {
   "cell_type": "code",
   "execution_count": 3,
   "metadata": {},
   "outputs": [
    {
     "data": {
      "text/html": [
       "   <div id=\"so4bjW\"></div>\n",
       "   <script type=\"text/javascript\" data-lets-plot-script=\"plot\">\n",
       "       (function() {\n",
       "           var plotSpec={\n",
       "'mapping':{\n",
       "'color':\"label\"\n",
       "},\n",
       "'data':{\n",
       "'W_Q':[0.0,0.0,0.01436650551856244,0.048652521360514095,0.11165679961323621,0.21805227794742546,0.3937393309410387,0.6872300011262,1.1943386643403133,2.1093562293555417,3.807904509176321,6.860341158634066,11.587054826012182,17.197309214069964,22.318790290175976,26.502054928330324,30.042592167995362,33.25171233081776,36.28917368829495,39.22489417542177,42.091659828479074,44.907485381248236,47.68373895876491,50.42825701520081,53.14674233572072,55.84349891130566,58.52186376743872,61.18447971981777,63.83347645934538,66.47059536681802,69.0972781525477,71.71473137976315,74.32397442489054,0.0,0.0,0.0016978752304259244,0.005331052893689782,0.01118840898190119,0.019626217484647535,0.031090766480114867,0.04615124348940768,0.06554893056003665,0.09027320396638006,0.12168330075495584,0.16171161679798715,0.21321922046838787,0.28065048173127194,0.3713087411423903,0.4979978055282167,0.6848447100501023,0.980925901621846,1.4936975867048832,2.4719775453609993,4.494458064586546,8.739652398689493,16.59149656151879,27.131950295439776,36.50943732615655,42.97806798434496,47.53727869668969,51.25618285471294,54.627255375988476,57.83028685775789,60.9313663464682,63.95944934208104,66.93058371915984,0.0,0.0,6.18707353385999E-4,0.001908811606869801,0.003929969832103154,0.006750126384935819,0.010447170076935831,0.015111040395967478,0.020846440753013996,0.02777638663673571,0.03604692442659699,0.04583352726468083,0.05734995183768578,0.07086080476990657,0.08669987223887914,0.10529771137144509,0.1272247000436068,0.1532609996752961,0.1845156157780522,0.22263974489268226,0.2702315502612985,0.3316533787399805,0.4147945011815481,0.5351422325114196,0.725840579649648,1.064105800096483,1.743597425161143,3.271022314169524,6.91925349082411,15.115144511149733,29.06277061797665,43.69094290234157,53.57536621807715],\n",
       "'label':[\"tx=100\",\"tx=100\",\"tx=100\",\"tx=100\",\"tx=100\",\"tx=100\",\"tx=100\",\"tx=100\",\"tx=100\",\"tx=100\",\"tx=100\",\"tx=100\",\"tx=100\",\"tx=100\",\"tx=100\",\"tx=100\",\"tx=100\",\"tx=100\",\"tx=100\",\"tx=100\",\"tx=100\",\"tx=100\",\"tx=100\",\"tx=100\",\"tx=100\",\"tx=100\",\"tx=100\",\"tx=100\",\"tx=100\",\"tx=100\",\"tx=100\",\"tx=100\",\"tx=100\",\"tx=300\",\"tx=300\",\"tx=300\",\"tx=300\",\"tx=300\",\"tx=300\",\"tx=300\",\"tx=300\",\"tx=300\",\"tx=300\",\"tx=300\",\"tx=300\",\"tx=300\",\"tx=300\",\"tx=300\",\"tx=300\",\"tx=300\",\"tx=300\",\"tx=300\",\"tx=300\",\"tx=300\",\"tx=300\",\"tx=300\",\"tx=300\",\"tx=300\",\"tx=300\",\"tx=300\",\"tx=300\",\"tx=300\",\"tx=300\",\"tx=300\",\"tx=300\",\"tx=300\",\"tx=500\",\"tx=500\",\"tx=500\",\"tx=500\",\"tx=500\",\"tx=500\",\"tx=500\",\"tx=500\",\"tx=500\",\"tx=500\",\"tx=500\",\"tx=500\",\"tx=500\",\"tx=500\",\"tx=500\",\"tx=500\",\"tx=500\",\"tx=500\",\"tx=500\",\"tx=500\",\"tx=500\",\"tx=500\",\"tx=500\",\"tx=500\",\"tx=500\",\"tx=500\",\"tx=500\",\"tx=500\",\"tx=500\",\"tx=500\",\"tx=500\",\"tx=500\",\"tx=500\"],\n",
       "'n':[0.0,1.0,2.0,3.0,4.0,5.0,6.0,7.0,8.0,9.0,10.0,11.0,12.0,13.0,14.0,15.0,16.0,17.0,18.0,19.0,20.0,21.0,22.0,23.0,24.0,25.0,26.0,27.0,28.0,29.0,30.0,31.0,32.0,0.0,1.0,2.0,3.0,4.0,5.0,6.0,7.0,8.0,9.0,10.0,11.0,12.0,13.0,14.0,15.0,16.0,17.0,18.0,19.0,20.0,21.0,22.0,23.0,24.0,25.0,26.0,27.0,28.0,29.0,30.0,31.0,32.0,0.0,1.0,2.0,3.0,4.0,5.0,6.0,7.0,8.0,9.0,10.0,11.0,12.0,13.0,14.0,15.0,16.0,17.0,18.0,19.0,20.0,21.0,22.0,23.0,24.0,25.0,26.0,27.0,28.0,29.0,30.0,31.0,32.0]\n",
       "},\n",
       "'ggsize':{\n",
       "'width':500,\n",
       "'height':300\n",
       "},\n",
       "'kind':\"plot\",\n",
       "'scales':[],\n",
       "'layers':[{\n",
       "'mapping':{\n",
       "'x':\"n\",\n",
       "'y':\"W_Q\"\n",
       "},\n",
       "'stat':\"identity\",\n",
       "'data':{\n",
       "},\n",
       "'position':\"identity\",\n",
       "'geom':\"line\"\n",
       "}]\n",
       "};\n",
       "           var plotContainer = document.getElementById(\"so4bjW\");\n",
       "           window.letsPlotCall(function() {{\n",
       "               LetsPlot.buildPlotFromProcessedSpecs(plotSpec, -1, -1, plotContainer);\n",
       "           }});\n",
       "       })();    \n",
       "   </script>"
      ]
     },
     "execution_count": 3,
     "metadata": {},
     "output_type": "execute_result"
    }
   ],
   "source": [
    "val range = 0..32\n",
    "\n",
    "val txs = listOf(100, 300, 500)\n",
    "\n",
    "val (labels, wq) = txs.flatMap { tx ->\n",
    "     range.map { n -> \"tx=$tx\" to Queue.with(tx, n).avgWaitingTime }\n",
    "}.unzip()\n",
    "\n",
    "val data = mapOf(\n",
    "    \"n\" to (range * 3),\n",
    "    \"label\" to labels,\n",
    "    \"W_Q\" to wq\n",
    ")\n",
    "\n",
    "lets_plot(data) { color = \"label\" } +\n",
    "    geom_line { x = \"n\"; y = \"W_Q\" } +\n",
    "    ggsize(500, 300)\n"
   ]
  },
  {
   "cell_type": "markdown",
   "metadata": {},
   "source": [
    "## Speedup over a single core (given by $N - n$)  in terms of the number of cores, $n$"
   ]
  },
  {
   "cell_type": "code",
   "execution_count": 4,
   "metadata": {
    "scrolled": true
   },
   "outputs": [
    {
     "data": {
      "text/html": [
       "   <div id=\"9tXEc5\"></div>\n",
       "   <script type=\"text/javascript\" data-lets-plot-script=\"plot\">\n",
       "       (function() {\n",
       "           var plotSpec={\n",
       "'mapping':{\n",
       "},\n",
       "'data':{\n",
       "'label (constant)':[\"tx=100 (constant tu)\",\"tx=100 (constant tu)\",\"tx=100 (constant tu)\",\"tx=100 (constant tu)\",\"tx=100 (constant tu)\",\"tx=100 (constant tu)\",\"tx=100 (constant tu)\",\"tx=100 (constant tu)\",\"tx=100 (constant tu)\",\"tx=100 (constant tu)\",\"tx=100 (constant tu)\",\"tx=100 (constant tu)\",\"tx=100 (constant tu)\",\"tx=100 (constant tu)\",\"tx=100 (constant tu)\",\"tx=100 (constant tu)\",\"tx=100 (constant tu)\",\"tx=100 (constant tu)\",\"tx=100 (constant tu)\",\"tx=100 (constant tu)\",\"tx=100 (constant tu)\",\"tx=100 (constant tu)\",\"tx=100 (constant tu)\",\"tx=100 (constant tu)\",\"tx=100 (constant tu)\",\"tx=100 (constant tu)\",\"tx=100 (constant tu)\",\"tx=100 (constant tu)\",\"tx=100 (constant tu)\",\"tx=100 (constant tu)\",\"tx=100 (constant tu)\",\"tx=100 (constant tu)\",\"tx=300 (constant tu)\",\"tx=300 (constant tu)\",\"tx=300 (constant tu)\",\"tx=300 (constant tu)\",\"tx=300 (constant tu)\",\"tx=300 (constant tu)\",\"tx=300 (constant tu)\",\"tx=300 (constant tu)\",\"tx=300 (constant tu)\",\"tx=300 (constant tu)\",\"tx=300 (constant tu)\",\"tx=300 (constant tu)\",\"tx=300 (constant tu)\",\"tx=300 (constant tu)\",\"tx=300 (constant tu)\",\"tx=300 (constant tu)\",\"tx=300 (constant tu)\",\"tx=300 (constant tu)\",\"tx=300 (constant tu)\",\"tx=300 (constant tu)\",\"tx=300 (constant tu)\",\"tx=300 (constant tu)\",\"tx=300 (constant tu)\",\"tx=300 (constant tu)\",\"tx=300 (constant tu)\",\"tx=300 (constant tu)\",\"tx=300 (constant tu)\",\"tx=300 (constant tu)\",\"tx=300 (constant tu)\",\"tx=300 (constant tu)\",\"tx=300 (constant tu)\",\"tx=300 (constant tu)\",\"tx=500 (constant tu)\",\"tx=500 (constant tu)\",\"tx=500 (constant tu)\",\"tx=500 (constant tu)\",\"tx=500 (constant tu)\",\"tx=500 (constant tu)\",\"tx=500 (constant tu)\",\"tx=500 (constant tu)\",\"tx=500 (constant tu)\",\"tx=500 (constant tu)\",\"tx=500 (constant tu)\",\"tx=500 (constant tu)\",\"tx=500 (constant tu)\",\"tx=500 (constant tu)\",\"tx=500 (constant tu)\",\"tx=500 (constant tu)\",\"tx=500 (constant tu)\",\"tx=500 (constant tu)\",\"tx=500 (constant tu)\",\"tx=500 (constant tu)\",\"tx=500 (constant tu)\",\"tx=500 (constant tu)\",\"tx=500 (constant tu)\",\"tx=500 (constant tu)\",\"tx=500 (constant tu)\",\"tx=500 (constant tu)\",\"tx=500 (constant tu)\",\"tx=500 (constant tu)\",\"tx=500 (constant tu)\",\"tx=500 (constant tu)\",\"tx=500 (constant tu)\",\"tx=500 (constant tu)\"],\n",
       "'speedup (constant)':[0.9345794392523364,1.8611932510001739,2.7785072068487215,3.684922555831211,4.578522209981888,5.457008821246557,6.317636033122226,7.157136411650698,7.971653147310939,8.756687966606716,9.507084937072177,10.21707839576569,10.880440997845024,11.490770451699344,12.041943840031024,12.52873846730032,12.947563893467668,13.29717950926451,13.579213007066677,13.798288849932952,13.961654033266981,14.078340173412688,14.158061441223621,14.210132459504084,14.242654851164984,14.262094373437016,14.273227900864951,14.279346520855126,14.282578144362367,14.284221041171374,14.285026187733639,14.285407105721092,0.9771986970684039,1.9533818320643068,2.9284832453872562,3.9024311905637115,4.875147763707114,5.846548265866079,6.816540489536176,7.785023919412274,8.751888836097505,9.717015309943132,10.680272070452572,11.641515234724581,12.600586876219612,13.557313412698212,14.511503789497308,15.462947431387473,16.41141193311832,17.356640455463545,18.298348790214686,19.236222054291055,20.16991097015818,21.099027687408707,22.023141099132673,22.94177160725254,23.854385294236835,24.76038746577111,25.65911554169705,26.549831292966996,27.431712453224883,28.30384377829455,29.165207689388232,30.014674720899233,0.9861932938856016,1.9720106729729519,2.957437008479003,3.942456372465341,4.92705198597579,5.9112061632136905,6.894900251414056,7.878114566032448,8.860828320835545,9.843019552437616,10.824665038782038,11.805740211017088,12.786219058159976,13.766074023881943,14.745275894679388,15.723793678620853,16.701594473776378,17.67864332534333,18.654903070380318,19.630334168947172,20.604894520322926,21.57853926283391,22.551220555669207,23.522887340888953,24.49348508364089,25.46295548839013,26.43123618873458,27.39826040812158,28.36395658849834,29.328247983617228,30.29105221337508,31.252280775191583],\n",
       "'speedup':[0.9569377990430622,1.9064124783362217,2.8458188164616027,3.7711018721601604,4.675620163895581,5.54786020860635,6.366643708699798,7.090897531295312,7.63889385335065,7.855997172572501,7.514894415939282,6.505607505693877,5.176999632765297,4.088816755448661,3.4028832857011846,2.9836540831316345,2.699424783463739,2.4843456675681104,2.3100441709226516,2.1633362677533547,2.0370058668178253,1.9265044181856013,1.8286971940541719,1.7413030657214748,1.6626004354783888,1.5912544930245538,1.5262081120728936,1.46660941626185,1.4117618532727896,1.3610887389809179,1.3141074480947381,1.2704102300437903,0.9852216748768473,1.969535267294072,2.952825553529453,3.934953424623766,4.915748677699854,5.894999849562149,6.872439516661609,7.8477224307614515,8.820391940600722,9.789826517414726,10.755151025016735,11.715082524380774,12.667648132585633,13.609638683037954,14.535484519334947,15.434792723781136,16.28661938375571,17.0455056038285,17.60705453966727,17.730447183789142,16.929993194820756,14.646921946231583,11.286346464093112,8.445181286580892,6.822132237723199,5.988165386133904,5.498153416439482,5.149213073973076,4.86790459831867,4.627456444798963,4.4162206881770025,4.227766568487333,0.9910802775024777,1.9818276811634055,2.9722164668293547,3.962217631359968,4.951798311298199,5.940921030563567,6.929542747889552,7.917613634488606,8.90507548198957,9.891859593863716,10.877883939701105,11.863049232000206,12.847233385231057,13.830283471920662,14.812003673205993,15.792136572490852,16.770332909548703,17.74610037412277,18.718712320879142,19.687035458207568,20.64918368379987,21.60177494942683,22.538222678558416,23.444532211797885,24.288306067106095,24.988740688051355,25.33546821955813,24.802650744945044,22.394379516567426,17.63377754418103,12.629090324318721,9.601498697842391],\n",
       "'label':[\"tx=100\",\"tx=100\",\"tx=100\",\"tx=100\",\"tx=100\",\"tx=100\",\"tx=100\",\"tx=100\",\"tx=100\",\"tx=100\",\"tx=100\",\"tx=100\",\"tx=100\",\"tx=100\",\"tx=100\",\"tx=100\",\"tx=100\",\"tx=100\",\"tx=100\",\"tx=100\",\"tx=100\",\"tx=100\",\"tx=100\",\"tx=100\",\"tx=100\",\"tx=100\",\"tx=100\",\"tx=100\",\"tx=100\",\"tx=100\",\"tx=100\",\"tx=100\",\"tx=300\",\"tx=300\",\"tx=300\",\"tx=300\",\"tx=300\",\"tx=300\",\"tx=300\",\"tx=300\",\"tx=300\",\"tx=300\",\"tx=300\",\"tx=300\",\"tx=300\",\"tx=300\",\"tx=300\",\"tx=300\",\"tx=300\",\"tx=300\",\"tx=300\",\"tx=300\",\"tx=300\",\"tx=300\",\"tx=300\",\"tx=300\",\"tx=300\",\"tx=300\",\"tx=300\",\"tx=300\",\"tx=300\",\"tx=300\",\"tx=300\",\"tx=300\",\"tx=500\",\"tx=500\",\"tx=500\",\"tx=500\",\"tx=500\",\"tx=500\",\"tx=500\",\"tx=500\",\"tx=500\",\"tx=500\",\"tx=500\",\"tx=500\",\"tx=500\",\"tx=500\",\"tx=500\",\"tx=500\",\"tx=500\",\"tx=500\",\"tx=500\",\"tx=500\",\"tx=500\",\"tx=500\",\"tx=500\",\"tx=500\",\"tx=500\",\"tx=500\",\"tx=500\",\"tx=500\",\"tx=500\",\"tx=500\",\"tx=500\",\"tx=500\"],\n",
       "'n':[1.0,2.0,3.0,4.0,5.0,6.0,7.0,8.0,9.0,10.0,11.0,12.0,13.0,14.0,15.0,16.0,17.0,18.0,19.0,20.0,21.0,22.0,23.0,24.0,25.0,26.0,27.0,28.0,29.0,30.0,31.0,32.0,1.0,2.0,3.0,4.0,5.0,6.0,7.0,8.0,9.0,10.0,11.0,12.0,13.0,14.0,15.0,16.0,17.0,18.0,19.0,20.0,21.0,22.0,23.0,24.0,25.0,26.0,27.0,28.0,29.0,30.0,31.0,32.0,1.0,2.0,3.0,4.0,5.0,6.0,7.0,8.0,9.0,10.0,11.0,12.0,13.0,14.0,15.0,16.0,17.0,18.0,19.0,20.0,21.0,22.0,23.0,24.0,25.0,26.0,27.0,28.0,29.0,30.0,31.0,32.0]\n",
       "},\n",
       "'ggsize':{\n",
       "'width':750,\n",
       "'height':300\n",
       "},\n",
       "'kind':\"plot\",\n",
       "'scales':[],\n",
       "'layers':[{\n",
       "'mapping':{\n",
       "'color':\"label\",\n",
       "'x':\"n\",\n",
       "'y':\"speedup\"\n",
       "},\n",
       "'stat':\"identity\",\n",
       "'data':{\n",
       "},\n",
       "'position':\"identity\",\n",
       "'geom':\"line\"\n",
       "},{\n",
       "'mapping':{\n",
       "'color':\"label (constant)\",\n",
       "'x':\"n\",\n",
       "'y':\"speedup (constant)\"\n",
       "},\n",
       "'stat':\"identity\",\n",
       "'data':{\n",
       "},\n",
       "'linetype':\"dashed\",\n",
       "'position':\"identity\",\n",
       "'geom':\"line\"\n",
       "}]\n",
       "};\n",
       "           var plotContainer = document.getElementById(\"9tXEc5\");\n",
       "           window.letsPlotCall(function() {{\n",
       "               LetsPlot.buildPlotFromProcessedSpecs(plotSpec, -1, -1, plotContainer);\n",
       "           }});\n",
       "       })();    \n",
       "   </script>"
      ]
     },
     "execution_count": 4,
     "metadata": {},
     "output_type": "execute_result"
    }
   ],
   "source": [
    "\n",
    "val range = 1..32\n",
    "\n",
    "val (labels, lines) = listOf(100, 300, 500).flatMap { tx -> \n",
    "    range.map { n -> \"tx=$tx\" to (n - Queue.with(tx, n).avgBusyCores) }\n",
    "}.unzip()\n",
    "\n",
    "val (labelsC, linesC) = listOf(100, 300, 500).flatMap { tx -> \n",
    "     range.map { n -> \"tx=$tx (constant tu)\" to (n - Queue.with(tx, n, constantRelease = true).avgBusyCores) }\n",
    "}.unzip()\n",
    "\n",
    "val data = mapOf(\n",
    "    \"n\" to (range * 3),\n",
    "    \"speedup\" to lines,\n",
    "    \"label\" to labels,\n",
    "    \"speedup (constant)\" to linesC,\n",
    "    \"label (constant)\" to labelsC\n",
    ")\n",
    "\n",
    "lets_plot(data) +\n",
    "    geom_line { x = \"n\"; y = \"speedup\"; color = \"label\" } +\n",
    "    geom_line(linetype = \"dashed\") { x = \"n\"; y = \"speedup (constant)\"; color = \"label (constant)\" } +\n",
    "    ggsize(750, 300)\n"
   ]
  },
  {
   "cell_type": "code",
   "execution_count": null,
   "metadata": {},
   "outputs": [],
   "source": []
  },
  {
   "cell_type": "code",
   "execution_count": null,
   "metadata": {},
   "outputs": [],
   "source": []
  }
 ],
 "metadata": {
  "kernelspec": {
   "display_name": "Kotlin",
   "language": "kotlin",
   "name": "kotlin"
  },
  "language_info": {
   "codemirror_mode": "text/x-kotlin",
   "file_extension": ".kt",
   "mimetype": "text/x-kotlin",
   "name": "kotlin",
   "pygments_lexer": "kotlin",
   "version": "1.4.20-dev-2342"
  }
 },
 "nbformat": 4,
 "nbformat_minor": 4
}
